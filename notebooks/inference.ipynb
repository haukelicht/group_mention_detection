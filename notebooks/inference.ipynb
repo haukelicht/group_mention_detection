{
 "cells": [
  {
   "cell_type": "code",
   "execution_count": null,
   "id": "d40ab22d",
   "metadata": {},
   "outputs": [],
   "source": [
    "from transformers import pipeline\n",
    "\n",
    "model_id = \"haukelicht/roberta-base-group-mention-detector-uk-manifestos\"\n",
    "\n",
    "classifier = pipeline(task=\"ner\", model=model_id, aggregation_strategy=\"simple\")\n",
    "\n",
    "text = \"Our party fights for the deprived and the vulnerable in our country.\"\n",
    "annotations = classifier(text)\n",
    "print(annotations)\n",
    "\n",
    "# get annotations' character start and end indexes\n",
    "locations = [(anno['start'], anno['end']) for anno in annotations]\n",
    "locations\n",
    "\n",
    "# index the source text using first annotation as an example\n",
    "loc = locations[0]\n",
    "text[slice(*loc)]"
   ]
  }
 ],
 "metadata": {
  "kernelspec": {
   "display_name": "group_mention_detection_replication",
   "language": "python",
   "name": "python3"
  },
  "language_info": {
   "codemirror_mode": {
    "name": "ipython",
    "version": 3
   },
   "file_extension": ".py",
   "mimetype": "text/x-python",
   "name": "python",
   "nbconvert_exporter": "python",
   "pygments_lexer": "ipython3",
   "version": "3.10.16"
  }
 },
 "nbformat": 4,
 "nbformat_minor": 5
}
